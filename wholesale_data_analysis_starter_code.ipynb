{
 "cells": [
  {
   "cell_type": "markdown",
   "id": "dc0318d6",
   "metadata": {},
   "source": [
    "## Part 1: Explore the Data\n",
    "\n",
    "Import the data and use Pandas to learn more about the dataset."
   ]
  },
  {
   "cell_type": "code",
   "execution_count": 21,
   "id": "e076f57f",
   "metadata": {},
   "outputs": [],
   "source": [
    "import pandas as pd\n",
    "\n",
    "file_path = '/Users/desmonddavis/Desktop/pandas-challenge-1/Resources/client_dataset.csv'\n",
    "data = pd.read_csv('Resources/client_dataset.csv')\n"
   ]
  },
  {
   "cell_type": "code",
   "execution_count": 22,
   "id": "71b9bbd2",
   "metadata": {},
   "outputs": [
    {
     "name": "stdout",
     "output_type": "stream",
     "text": [
      "column names:\n",
      "Index(['first', 'last', 'job', 'phone', 'email', 'client_id', 'order_id',\n",
      "       'order_date', 'order_week', 'order_year', 'item_id', 'category',\n",
      "       'subcategory', 'unit_price', 'unit_cost', 'unit_weight', 'qty',\n",
      "       'line_number'],\n",
      "      dtype='object')\n"
     ]
    }
   ],
   "source": [
    "# View the column names in the data\n",
    "\n",
    "print(\"column names:\")\n",
    "print(data.columns)"
   ]
  },
  {
   "cell_type": "code",
   "execution_count": 23,
   "id": "bc0f4172",
   "metadata": {},
   "outputs": [
    {
     "name": "stdout",
     "output_type": "stream",
     "text": [
      "\n",
      "Data Description:\n",
      "          client_id      order_id    order_week    order_year    unit_price  \\\n",
      "count  54639.000000  5.463900e+04  54639.000000  54639.000000  54639.000000   \n",
      "mean   54837.869416  5.470190e+06     11.359139   2022.993064    136.267207   \n",
      "std    25487.438231  2.599807e+06      7.023499      0.082997    183.873135   \n",
      "min    10033.000000  1.000886e+06      1.000000   2022.000000      0.010000   \n",
      "25%    33593.000000  3.196372e+06      6.000000   2023.000000     20.800000   \n",
      "50%    53305.000000  5.496966e+06     11.000000   2023.000000     68.310000   \n",
      "75%    78498.000000  7.733869e+06     17.000000   2023.000000    173.160000   \n",
      "max    99984.000000  9.998480e+06     52.000000   2023.000000   1396.230000   \n",
      "\n",
      "          unit_cost   unit_weight           qty   line_number  \n",
      "count  54639.000000  54639.000000  5.463900e+04  54639.000000  \n",
      "mean      99.446073      5.004116  5.702646e+02      2.979667  \n",
      "std      133.164267      5.326599  1.879552e+04      2.436320  \n",
      "min        0.010000      0.000000  0.000000e+00      0.000000  \n",
      "25%       14.840000      1.450000  3.200000e+01      1.000000  \n",
      "50%       49.890000      3.240000  6.800000e+01      3.000000  \n",
      "75%      125.570000      6.890000  1.700000e+02      5.000000  \n",
      "max      846.270000     46.430000  3.958244e+06      9.000000  \n"
     ]
    }
   ],
   "source": [
    "# Use the describe function to gather some basic statistics\n",
    "print(\"\\nData Description:\")\n",
    "print(data.describe())\n"
   ]
  },
  {
   "cell_type": "code",
   "execution_count": 24,
   "id": "b24b53cc",
   "metadata": {},
   "outputs": [],
   "source": [
    "# Use this space to do any additional research\n",
    "# and familiarize yourself with the data.\n"
   ]
  },
  {
   "cell_type": "code",
   "execution_count": 25,
   "id": "551cb358",
   "metadata": {},
   "outputs": [
    {
     "name": "stdout",
     "output_type": "stream",
     "text": [
      "\n",
      "Top 3 Item Categories by Entries:\n",
      "category\n",
      "consumables    23538\n",
      "furniture      11915\n",
      "software        8400\n",
      "Name: count, dtype: int64\n"
     ]
    }
   ],
   "source": [
    "# What three item categories had the most entries?\n",
    "print(\"\\nTop 3 Item Categories by Entries:\")\n",
    "category_counts = data['category'].value_counts()\n",
    "print(category_counts.head(3))"
   ]
  },
  {
   "cell_type": "code",
   "execution_count": 26,
   "id": "5f54e2cf",
   "metadata": {},
   "outputs": [
    {
     "name": "stdout",
     "output_type": "stream",
     "text": [
      "\n",
      "Subcategory with most entries in 'consumables':\n",
      "bathroom supplies\n"
     ]
    }
   ],
   "source": [
    "# For the category with the most entries, which subcategory had the most entries?\n",
    "top_category = category_counts.idxmax()\n",
    "subcategory_counts = data[data['category'] == top_category]['subcategory'].value_counts()\n",
    "print(f\"\\nSubcategory with most entries in '{top_category}':\")\n",
    "print(subcategory_counts.idxmax())\n"
   ]
  },
  {
   "cell_type": "code",
   "execution_count": 40,
   "id": "2db94379",
   "metadata": {},
   "outputs": [
    {
     "name": "stdout",
     "output_type": "stream",
     "text": [
      "\n",
      "Top 5 Clients with Most Entries:\n",
      "client_id\n",
      "33615    220\n",
      "66037    211\n",
      "46820    209\n",
      "38378    207\n",
      "24741    207\n",
      "Name: count, dtype: int64\n"
     ]
    }
   ],
   "source": [
    "# Which five clients had the most entries in the data?\n",
    "print(\"\\nTop 5 Clients with Most Entries:\")\n",
    "client_counts = data['client_id'].value_counts()\n",
    "top_5_clients = client_counts.head(5)\n",
    "print(top_5_clients)"
   ]
  },
  {
   "cell_type": "code",
   "execution_count": 41,
   "id": "a6635601",
   "metadata": {},
   "outputs": [],
   "source": [
    "# Store the client ids of those top 5 clients in a list.\n",
    "top_5_client_ids = top_5_clients.index.tolist()\n"
   ]
  },
  {
   "cell_type": "code",
   "execution_count": 42,
   "id": "c88b8a3e",
   "metadata": {},
   "outputs": [
    {
     "name": "stdout",
     "output_type": "stream",
     "text": [
      "\n",
      "Total units ordered by client 33615: 64313\n"
     ]
    }
   ],
   "source": [
    "# How many total units (the qty column) did the client with the most entries order order?\n",
    "top_client_id = top_5_client_ids[0]\n",
    "total_units_top_client = data[data['client_id'] == top_client_id]['qty'].sum()\n",
    "print(f\"\\nTotal units ordered by client {top_client_id}: {total_units_top_client}\")"
   ]
  },
  {
   "cell_type": "markdown",
   "id": "257fcd7d",
   "metadata": {},
   "source": [
    "## Part 2: Transform the Data\n",
    "Do we know that this client spent the more money than client 66037? If not, how would we find out? Transform the data using the steps below to prepare it for analysis."
   ]
  },
  {
   "cell_type": "code",
   "execution_count": 47,
   "id": "0c25c4a8",
   "metadata": {},
   "outputs": [
    {
     "name": "stdout",
     "output_type": "stream",
     "text": [
      "   unit_price  qty   subtotal\n",
      "0     1096.80  105  115164.00\n",
      "1       24.95   21     523.95\n",
      "2       13.52   39     527.28\n",
      "3       36.42   29    1056.18\n",
      "4      195.10   20    3902.00\n"
     ]
    }
   ],
   "source": [
    "# Create a column that calculates the subtotal for each line using the unit_price and the qty\n",
    "data['subtotal'] = data['unit_price'] * data['qty']\n",
    "print(data[['unit_price', 'qty', 'subtotal']].head())\n",
    "\n"
   ]
  },
  {
   "cell_type": "code",
   "execution_count": 52,
   "id": "ac9dafc8",
   "metadata": {},
   "outputs": [
    {
     "name": "stdout",
     "output_type": "stream",
     "text": [
      "\n",
      "Column Names in Dataset:\n",
      "Index(['first', 'last', 'job', 'phone', 'email', 'client_id', 'order_id',\n",
      "       'order_date', 'order_week', 'order_year', 'item_id', 'category',\n",
      "       'subcategory', 'unit_price', 'unit_cost', 'unit_weight', 'qty',\n",
      "       'line_number', 'Subtotal', 'subtotal'],\n",
      "      dtype='object')\n"
     ]
    }
   ],
   "source": [
    "# Create a column for shipping price.\n",
    "# Assume a shipping price of $7 per pound for orders over 50 pounds and $10 per pound for items 50 pounds or under.\n",
    "print(\"\\nColumn Names in Dataset:\")\n",
    "print(data.columns)\n"
   ]
  },
  {
   "cell_type": "code",
   "execution_count": 57,
   "id": "3b846dc3",
   "metadata": {},
   "outputs": [
    {
     "name": "stdout",
     "output_type": "stream",
     "text": [
      "Index(['first', 'last', 'job', 'phone', 'email', 'client_id', 'order_id',\n",
      "       'order_date', 'order_week', 'order_year', 'item_id', 'category',\n",
      "       'subcategory', 'unit_price', 'unit_cost', 'unit_weight', 'qty',\n",
      "       'line_number', 'Subtotal', 'subtotal', 'shipping_price'],\n",
      "      dtype='object')\n"
     ]
    }
   ],
   "source": [
    "# Update based on actual column name for weight\n",
    "# Replace 'weight_pounds' with the actual column name in your dataset, e.g., 'weight'\n",
    "data['shipping_price'] = data['unit_weight'].apply(lambda x: x * 7 if x > 50 else x * 10)\n",
    "print(data.columns)\n"
   ]
  },
  {
   "cell_type": "code",
   "execution_count": 63,
   "id": "77f42c67",
   "metadata": {},
   "outputs": [
    {
     "name": "stdout",
     "output_type": "stream",
     "text": [
      "Index(['first', 'last', 'job', 'phone', 'email', 'client_id', 'order_id',\n",
      "       'order_date', 'order_week', 'order_year', 'item_id', 'category',\n",
      "       'subcategory', 'unit_price', 'unit_cost', 'unit_weight', 'qty',\n",
      "       'line_number', 'Subtotal', 'subtotal', 'shipping_price', 'total_price'],\n",
      "      dtype='object')\n"
     ]
    }
   ],
   "source": [
    "# Create a column for the total price using the subtotal and the shipping price along with a sales tax of 9.25%\n",
    "data['total_price'] = (data['subtotal'] + data['shipping_price'])  * 1.0925\n",
    "print(data.columns)"
   ]
  },
  {
   "cell_type": "code",
   "execution_count": 66,
   "id": "c82ad275",
   "metadata": {},
   "outputs": [
    {
     "name": "stdout",
     "output_type": "stream",
     "text": [
      "Index(['first', 'last', 'job', 'phone', 'email', 'client_id', 'order_id',\n",
      "       'order_date', 'order_week', 'order_year', 'item_id', 'category',\n",
      "       'subcategory', 'unit_price', 'unit_cost', 'unit_weight', 'qty',\n",
      "       'line_number', 'Subtotal', 'subtotal', 'shipping_price', 'total_price',\n",
      "       'line_cost'],\n",
      "      dtype='object')\n"
     ]
    }
   ],
   "source": [
    "# Create a column for the cost of each line using unit cost, qty, and\n",
    "# shipping price (assume the shipping cost is exactly what is charged to the client).\n",
    "data['line_cost'] = (data['unit_cost'] * data['qty']) + data['shipping_price']\n",
    "print(data.columns)\n",
    "\n"
   ]
  },
  {
   "cell_type": "code",
   "execution_count": 67,
   "id": "e2389018",
   "metadata": {},
   "outputs": [
    {
     "name": "stdout",
     "output_type": "stream",
     "text": [
      "       first      last                    job               phone  \\\n",
      "0     Donald   Harding           Immunologist  793-904-7725x39308   \n",
      "1    Tiffany     Myers        Music therapist    201.442.4543x942   \n",
      "2    Shannon    Watson           Immunologist   687.737.9424x8503   \n",
      "3     Nathan     Baker  Accounting technician    827-788-8123x012   \n",
      "4  Christina  Schwartz           Chiropractor        265-829-3643   \n",
      "\n",
      "                                 email  client_id  order_id  order_date  \\\n",
      "0     harding.donald.7185@sullivan.com      58515   8953482  2023-04-28   \n",
      "1    myers.t.6537@ferguson-johnson.net      37609   8069089  2023-05-19   \n",
      "2                swatson8146@payne.net      57113   1902144  2023-01-29   \n",
      "3               bakernathan@benson.com      46554   9031802  2023-04-25   \n",
      "4  christinaschwartz9252@mcconnell.com      92089   1322274  2023-05-28   \n",
      "\n",
      "   order_week  order_year  ... unit_cost unit_weight  qty  line_number  \\\n",
      "0          17        2023  ...    762.71        7.50  105            1   \n",
      "1          20        2023  ...     15.09        1.49   21            0   \n",
      "2           4        2023  ...      7.86        1.68   39            6   \n",
      "3          17        2023  ...     24.85        1.23   29            3   \n",
      "4          21        2023  ...    108.17       46.43   20            1   \n",
      "\n",
      "    Subtotal   subtotal  shipping_price    total_price  line_cost  \\\n",
      "0  115164.00  115164.00            75.0  125898.607500   80159.55   \n",
      "1     523.95     523.95            14.9     588.693625     331.79   \n",
      "2     527.28     527.28            16.8     594.407400     323.34   \n",
      "3    1056.18    1056.18            12.3    1167.314400     732.95   \n",
      "4    3902.00    3902.00           464.3    4770.182750    2627.70   \n",
      "\n",
      "         profit  \n",
      "0  45739.057500  \n",
      "1    256.903625  \n",
      "2    271.067400  \n",
      "3    434.364400  \n",
      "4   2142.482750  \n",
      "\n",
      "[5 rows x 24 columns]\n"
     ]
    }
   ],
   "source": [
    "# Create a column for the profit of each line using line cost and line price\n",
    "data['profit'] = data['total_price'] - data['line_cost']\n",
    "print(data.head())\n",
    "\n"
   ]
  },
  {
   "cell_type": "markdown",
   "id": "ef6f62b1",
   "metadata": {},
   "source": [
    "## Part 3: Confirm your work\n",
    "You have email receipts showing that the total prices for 3 orders. Confirm that your calculations match the receipts. Remember, each order has multiple lines.\n",
    "\n",
    "Order ID 2742071 had a total price of \\$152,811.89\n",
    "\n",
    "Order ID 2173913 had a total price of \\$162,388.71\n",
    "\n",
    "Order ID 6128929 had a total price of \\$923,441.25\n"
   ]
  },
  {
   "cell_type": "code",
   "execution_count": 72,
   "id": "c0e5d68e",
   "metadata": {},
   "outputs": [
    {
     "name": "stdout",
     "output_type": "stream",
     "text": [
      "\n",
      "Confirm Order Totals:\n"
     ]
    }
   ],
   "source": [
    "# Check your work using the totals above\n",
    "order_totals = data.groupby('order_id')['total_price'].sum()\n",
    "print(\"\\nConfirm Order Totals:\")"
   ]
  },
  {
   "cell_type": "code",
   "execution_count": 73,
   "id": "257176e4",
   "metadata": {},
   "outputs": [
    {
     "name": "stdout",
     "output_type": "stream",
     "text": [
      "Order ID 2742071: 139844.51\n",
      "Order ID 2173913: 119838.36\n",
      "Order ID 6128929: 752748.75\n"
     ]
    }
   ],
   "source": [
    "\n",
    "import pandas as pd\n",
    "order_ids = ['2742071', '2173913', '6128929']\n",
    "for order_id in order_ids:\n",
    "    if order_id in order_totals.index.astype(str):\n",
    "        print(f\"Order ID {order_id}:\", round(order_totals.loc[int(order_id)], 2))\n",
    "    else:\n",
    "        print(f\"Order ID {order_id} not found.\")"
   ]
  },
  {
   "cell_type": "markdown",
   "id": "b94d58ab",
   "metadata": {},
   "source": [
    "## Part 4: Summarize and Analyze\n",
    "Use the new columns with confirmed values to find the following information."
   ]
  },
  {
   "cell_type": "code",
   "execution_count": 76,
   "id": "7c005f34",
   "metadata": {},
   "outputs": [
    {
     "name": "stdout",
     "output_type": "stream",
     "text": [
      "\n",
      "Summary for Top 5 Clients:\n",
      "           total_units  total_shipping  total_revenue  total_profit\n",
      "client_id                                                          \n",
      "24741           239862          9365.6   7.667848e+07  3.610666e+07\n",
      "33615            64313         12609.4   6.392918e+06  2.033980e+06\n",
      "38378            73667         11895.0   9.172866e+06  2.955706e+06\n",
      "46820            75768         11094.8   8.006333e+06  2.589495e+06\n",
      "66037            43018         10017.3   8.746255e+06  3.126907e+06\n"
     ]
    }
   ],
   "source": [
    "# How much did each of the top 5 clients by quantity spend? Check your work from Part 1 for client ids.\n",
    "top_5_client_data = data[data['client_id'].isin(top_5_client_ids)]\n",
    "summary = top_5_client_data.groupby('client_id').agg(\n",
    "    total_units=('qty', 'sum'),\n",
    "    total_shipping=('shipping_price', 'sum'),\n",
    "    total_revenue=('total_price', 'sum'),\n",
    "    total_profit=('profit', 'sum')\n",
    ")\n",
    "print(\"\\nSummary for Top 5 Clients:\")\n",
    "print(summary)"
   ]
  },
  {
   "cell_type": "code",
   "execution_count": 77,
   "id": "81b6e4d2",
   "metadata": {},
   "outputs": [],
   "source": [
    "# Create a summary DataFrame showing the totals for the for the top 5 clients with the following information:\n",
    "# total units purchased, total shipping price, total revenue, and total profit. \n",
    "total_revenue_million = summary['total_revenue'] / 1e6\n",
    "total_profit_million = summary['total_profit'] / 1e6\n",
    "summary['total_revenue_millions'] = total_revenue_million\n",
    "summary['total_profit_millions'] = total_profit_million\n",
    "summary = summary[['total_units', 'total_shipping', 'total_revenue_millions', 'total_profit_millions']]\n",
    "summary = summary.sort_values(by='total_profit_millions', ascending=False)"
   ]
  },
  {
   "cell_type": "code",
   "execution_count": 18,
   "id": "7be02867",
   "metadata": {},
   "outputs": [
    {
     "data": {
      "text/html": [
       "<div>\n",
       "<style scoped>\n",
       "    .dataframe tbody tr th:only-of-type {\n",
       "        vertical-align: middle;\n",
       "    }\n",
       "\n",
       "    .dataframe tbody tr th {\n",
       "        vertical-align: top;\n",
       "    }\n",
       "\n",
       "    .dataframe thead th {\n",
       "        text-align: right;\n",
       "    }\n",
       "</style>\n",
       "<table border=\"1\" class=\"dataframe\">\n",
       "  <thead>\n",
       "    <tr style=\"text-align: right;\">\n",
       "      <th></th>\n",
       "      <th>Client ID</th>\n",
       "      <th>Units</th>\n",
       "      <th>Shipping (millions)</th>\n",
       "      <th>Total Revenue (millions)</th>\n",
       "      <th>Total Cost (millions)</th>\n",
       "      <th>Total Profit (millions)</th>\n",
       "    </tr>\n",
       "  </thead>\n",
       "  <tbody>\n",
       "    <tr>\n",
       "      <th>0</th>\n",
       "      <td>33615</td>\n",
       "      <td>64313</td>\n",
       "      <td>1.828985</td>\n",
       "      <td>8.377309</td>\n",
       "      <td>6.175314</td>\n",
       "      <td>2.201995</td>\n",
       "    </tr>\n",
       "    <tr>\n",
       "      <th>1</th>\n",
       "      <td>66037</td>\n",
       "      <td>43018</td>\n",
       "      <td>1.395152</td>\n",
       "      <td>10.259515</td>\n",
       "      <td>7.004483</td>\n",
       "      <td>3.255032</td>\n",
       "    </tr>\n",
       "    <tr>\n",
       "      <th>2</th>\n",
       "      <td>46820</td>\n",
       "      <td>75768</td>\n",
       "      <td>1.601449</td>\n",
       "      <td>9.743794</td>\n",
       "      <td>7.007192</td>\n",
       "      <td>2.736603</td>\n",
       "    </tr>\n",
       "    <tr>\n",
       "      <th>3</th>\n",
       "      <td>38378</td>\n",
       "      <td>73667</td>\n",
       "      <td>3.429455</td>\n",
       "      <td>12.906551</td>\n",
       "      <td>9.634721</td>\n",
       "      <td>3.271830</td>\n",
       "    </tr>\n",
       "    <tr>\n",
       "      <th>4</th>\n",
       "      <td>24741</td>\n",
       "      <td>239862</td>\n",
       "      <td>5.126448</td>\n",
       "      <td>82.268892</td>\n",
       "      <td>45.688900</td>\n",
       "      <td>36.579992</td>\n",
       "    </tr>\n",
       "  </tbody>\n",
       "</table>\n",
       "</div>"
      ],
      "text/plain": [
       "   Client ID   Units  Shipping (millions)  Total Revenue (millions)  \\\n",
       "0      33615   64313             1.828985                  8.377309   \n",
       "1      66037   43018             1.395152                 10.259515   \n",
       "2      46820   75768             1.601449                  9.743794   \n",
       "3      38378   73667             3.429455                 12.906551   \n",
       "4      24741  239862             5.126448                 82.268892   \n",
       "\n",
       "   Total Cost (millions)  Total Profit (millions)  \n",
       "0               6.175314                 2.201995  \n",
       "1               7.004483                 3.255032  \n",
       "2               7.007192                 2.736603  \n",
       "3               9.634721                 3.271830  \n",
       "4              45.688900                36.579992  "
      ]
     },
     "execution_count": 18,
     "metadata": {},
     "output_type": "execute_result"
    }
   ],
   "source": [
    "# Format the data and rename the columns to names suitable for presentation.\n",
    "\n",
    "# Define the money columns. \n",
    "\n",
    "\n",
    "# Define a function that converts a dollar amount to millions.\n",
    "\n",
    "\n",
    "# Apply the currency_format_millions function to only the money columns. \n",
    "\n",
    "\n",
    "# Rename the columns to reflect the change in the money format. \n",
    "\n",
    "\n"
   ]
  },
  {
   "cell_type": "code",
   "execution_count": 80,
   "id": "8ead0986",
   "metadata": {},
   "outputs": [
    {
     "name": "stdout",
     "output_type": "stream",
     "text": [
      "\n",
      "Summary for Top 5 Clients:\n",
      "           total_units  total_shipping  total_revenue_millions  \\\n",
      "client_id                                                        \n",
      "24741           239862          9365.6               76.678479   \n",
      "66037            43018         10017.3                8.746255   \n",
      "38378            73667         11895.0                9.172866   \n",
      "46820            75768         11094.8                8.006333   \n",
      "33615            64313         12609.4                6.392918   \n",
      "\n",
      "           total_profit_millions  \n",
      "client_id                         \n",
      "24741                  36.106662  \n",
      "66037                   3.126907  \n",
      "38378                   2.955706  \n",
      "46820                   2.589495  \n",
      "33615                   2.033980  \n",
      "\n",
      "Findings:\n",
      "The top 5 clients accounted for significant revenue and profit, indicating their importance in business performance. Further analysis could explore targeted strategies for these clients.\n"
     ]
    }
   ],
   "source": [
    "print(\"\\nSummary for Top 5 Clients:\")\n",
    "print(summary)\n",
    "\n",
    "print(\"\\nFindings:\")\n",
    "print(\"The top 5 clients accounted for significant revenue and profit, indicating their importance in business performance. Further analysis could explore targeted strategies for these clients.\")"
   ]
  }
 ],
 "metadata": {
  "kernelspec": {
   "display_name": "base",
   "language": "python",
   "name": "python3"
  },
  "language_info": {
   "codemirror_mode": {
    "name": "ipython",
    "version": 3
   },
   "file_extension": ".py",
   "mimetype": "text/x-python",
   "name": "python",
   "nbconvert_exporter": "python",
   "pygments_lexer": "ipython3",
   "version": "3.12.7"
  }
 },
 "nbformat": 4,
 "nbformat_minor": 5
}
